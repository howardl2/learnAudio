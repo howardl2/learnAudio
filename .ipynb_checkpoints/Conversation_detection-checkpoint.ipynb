{
 "cells": [
  {
   "cell_type": "code",
   "execution_count": 1,
   "metadata": {},
   "outputs": [],
   "source": [
    "import glob\n",
    "import sys\n",
    "import os\n",
    "import shutil\n",
    "\n",
    "import numpy as np\n",
    "\n",
    "import matplotlib.pyplot as plt\n",
    "from matplotlib.pyplot import specgram\n",
    "import matplotlib.style as ms\n",
    "ms.use(\"seaborn-muted\")\n",
    "%matplotlib inline\n",
    "\n",
    "import IPython.display\n",
    "\n",
    "import librosa\n",
    "import librosa.display\n",
    "\n",
    "import tensorflow as tf\n",
    "from sklearn.metrics import precision_recall_fscore_support\n",
    "import pickle\n",
    "\n",
    "NUMBER_OF_CLASSES = 4\n"
   ]
  },
  {
   "cell_type": "code",
   "execution_count": 2,
   "metadata": {},
   "outputs": [],
   "source": [
    "# def load_sound_files(file_paths):\n",
    "#     raw_sounds = []\n",
    "#     for fp in file_paths:\n",
    "#         X,sr = librosa.load(fp)\n",
    "#         raw_sounds.append(X)\n",
    "#     return raw_sounds\n",
    "\n",
    "# def plot_waves(sound_names,raw_sounds):\n",
    "#     i = 1\n",
    "#     fig = plt.figure(figsize=(25,60), dpi = 900)\n",
    "#     for n,f in zip(sound_names,raw_sounds):\n",
    "#         plt.subplot(10,1,i)\n",
    "#         librosa.display.waveplot(np.array(f),sr=22050)\n",
    "#         plt.title(n.title())\n",
    "#         i += 1\n",
    "#     plt.suptitle(\"Figure 1: Waveplot\",x=0.5, y=0.915,fontsize=18)\n",
    "#     plt.show()\n",
    "    \n",
    "# def plot_specgram(sound_names,raw_sounds):\n",
    "#     i = 1\n",
    "#     fig = plt.figure(figsize=(25,60), dpi = 900)\n",
    "#     for n,f in zip(sound_names,raw_sounds):\n",
    "#         plt.subplot(10,1,i)\n",
    "#         specgram(np.array(f), Fs=22050)\n",
    "#         plt.title(n.title())\n",
    "#         i += 1\n",
    "#     plt.suptitle(\"Figure 2: Spectrogram\",x=0.5, y=0.915,fontsize=18)\n",
    "#     plt.show()\n",
    "\n",
    "# def plot_log_power_specgram(sound_names,raw_sounds):\n",
    "#     i = 1\n",
    "#     fig = plt.figure(figsize=(25,60), dpi = 900)\n",
    "#     for n,f in zip(sound_names,raw_sounds):\n",
    "#         plt.subplot(10,1,i)\n",
    "#         D = librosa.logamplitude(np.abs(librosa.stft(f))**2, ref_power=np.max)\n",
    "#         librosa.display.specshow(D,x_axis='time' ,y_axis='log')\n",
    "#         plt.title(n.title())\n",
    "#         i += 1\n",
    "#     plt.suptitle(\"Figure 3: Log power spectrogram\",x=0.5, y=0.915,fontsize=18)\n",
    "#     plt.show()"
   ]
  },
  {
   "cell_type": "code",
   "execution_count": 3,
   "metadata": {},
   "outputs": [],
   "source": [
    "# sound_file_paths = [\"./Sound-Data/fold1/15564-1-0-0.wav\"]\n",
    "\n",
    "# sound_names = [\"conversation\"]\n",
    "\n",
    "# raw_sounds = load_sound_files(sound_file_paths)\n",
    "\n",
    "# plot_waves(sound_names,raw_sounds)\n",
    "# plot_specgram(sound_names,raw_sounds)\n",
    "# plot_log_power_specgram(sound_names,raw_sounds)"
   ]
  },
  {
   "cell_type": "code",
   "execution_count": 4,
   "metadata": {},
   "outputs": [],
   "source": [
    "def load_files(filepaths):\n",
    "    raw_sounds = []\n",
    "    for filepath in filepaths:\n",
    "        X,sr = librosa.load(filepath)\n",
    "        raw_sounds.append(X)\n",
    "    return raw_sounds\n",
    "\n",
    "def extract_feature(file_name):\n",
    "    X, sample_rate = librosa.load(file_name)\n",
    "    stft = np.abs(librosa.stft(X))\n",
    "    mfccs = np.mean(librosa.feature.mfcc(y=X, sr=sample_rate, n_mfcc=40).T,axis=0)\n",
    "    chroma = np.mean(librosa.feature.chroma_stft(S=stft, sr=sample_rate).T,axis=0)\n",
    "    mel = np.mean(librosa.feature.melspectrogram(X, sr=sample_rate).T,axis=0)\n",
    "    contrast = np.mean(librosa.feature.spectral_contrast(S=stft, sr=sample_rate).T,axis=0)\n",
    "    tonnetz = np.mean(librosa.feature.tonnetz(y=librosa.effects.harmonic(X),\n",
    "    sr=sample_rate).T,axis=0)\n",
    "    return mfccs,chroma,mel,contrast,tonnetz\n",
    "\n",
    "def parse_audio_files(parent_dir,sub_dirs,file_ext=\"*.wav\"):\n",
    "    features, labels = np.empty((0,193)), np.empty(0) #the shape 193 comes from the shape of features combined\n",
    "    for label, sub_dir in enumerate(sub_dirs):\n",
    "        print(label, sub_dir)\n",
    "        for fn in glob.glob(os.path.join(parent_dir, sub_dir, file_ext)):\n",
    "            try:\n",
    "                mfccs, chroma, mel, contrast,tonnetz = extract_feature(fn)\n",
    "            except Exception as e:\n",
    "                print(\"Error encountered while parsing file: \", fn)\n",
    "                continue\n",
    "            ext_features = np.hstack([mfccs,chroma,mel,contrast,tonnetz])\n",
    "\n",
    "            features = np.vstack([features,ext_features])\n",
    "            labels = np.append(labels, fn.split('\\\\')[2].split('-')[1])\n",
    "    return np.array(features), np.array(labels, dtype = np.int)\n",
    "\n",
    "def one_hot_encode(labels):\n",
    "    n_labels = len(labels)\n",
    "    n_unique_labels = len(np.unique(labels))\n",
    "    one_hot_encode = np.zeros((n_labels,n_unique_labels))\n",
    "    one_hot_encode[np.arange(n_labels),labels] = 1\n",
    "    return one_hot_encode"
   ]
  },
  {
   "cell_type": "code",
   "execution_count": 5,
   "metadata": {},
   "outputs": [
    {
     "name": "stdout",
     "output_type": "stream",
     "text": [
      "Starting Audio parsing\n",
      "0 set1\n",
      "1 fold1\n",
      "2 fold2\n",
      "Done parsing audio\n"
     ]
    }
   ],
   "source": [
    "print(\"Starting Audio parsing\")\n",
    "parent_dir = 'TalkingData'\n",
    "dirs = [\"set1\", \"fold1\", \"fold2\"]\n",
    "features, labels = parse_audio_files(parent_dir, dirs)\n",
    "\n",
    "print(\"Done parsing audio\")"
   ]
  },
  {
   "cell_type": "code",
   "execution_count": 6,
   "metadata": {},
   "outputs": [],
   "source": [
    "f = open('./pickles/features.pckl', 'wb')\n",
    "pickle.dump(features,f)\n",
    "f.close()\n",
    "fl = open('pickles/labels.pckl', 'wb')\n",
    "pickle.dump(labels,fl)\n",
    "fl.close()"
   ]
  },
  {
   "cell_type": "code",
   "execution_count": 7,
   "metadata": {},
   "outputs": [],
   "source": [
    "f = open(\"./pickles/features.pckl\", 'rb')\n",
    "features = pickle.load(f)\n",
    "f.close()\n",
    "\n",
    "\n",
    "fl = open(\"./pickles/labels.pckl\", \"rb\")\n",
    "labels = pickle.load(fl)\n",
    "fl.close()\n"
   ]
  },
  {
   "cell_type": "code",
   "execution_count": 8,
   "metadata": {},
   "outputs": [
    {
     "name": "stdout",
     "output_type": "stream",
     "text": [
      "starting\n",
      "ending\n"
     ]
    }
   ],
   "source": [
    "print(\"starting\")\n",
    "\n",
    "# print(labels.shape)\n",
    "\n",
    "\n",
    "labels = one_hot_encode(labels)\n",
    "\n",
    "train_test_split = np.random.rand(len(features)) < 0.80\n",
    "train_x = features[train_test_split]\n",
    "train_y = labels[train_test_split]\n",
    "test_x = features[~train_test_split]\n",
    "test_y = labels[~train_test_split]\n",
    "\n",
    "print(\"ending\")"
   ]
  },
  {
   "cell_type": "code",
   "execution_count": 9,
   "metadata": {},
   "outputs": [],
   "source": [
    "classes = [i for i in range(0,NUMBER_OF_CLASSES)]\n",
    "names = [\"air_conditioner\",\"children_playing\",\"street_music\", \"talking\"]\n",
    "NUMBER_OF_ITERATIONS = 12000\n",
    "\n",
    "# define parameters\n",
    "training_epochs = NUMBER_OF_ITERATIONS\n",
    "n_dim = features.shape[1]\n",
    "n_classes = NUMBER_OF_CLASSES\n",
    "n_hidden_units_one = 280 \n",
    "n_hidden_units_two = 300\n",
    "sd = 1 / np.sqrt(n_dim)\n",
    "learning_rate = 0.008"
   ]
  },
  {
   "cell_type": "code",
   "execution_count": 10,
   "metadata": {},
   "outputs": [
    {
     "name": "stdout",
     "output_type": "stream",
     "text": [
      "WARNING:tensorflow:From C:\\Users\\Howard\\Anaconda3\\lib\\site-packages\\tensorflow\\python\\framework\\op_def_library.py:263: colocate_with (from tensorflow.python.framework.ops) is deprecated and will be removed in a future version.\n",
      "Instructions for updating:\n",
      "Colocations handled automatically by placer.\n"
     ]
    }
   ],
   "source": [
    "X = tf.placeholder(tf.float32,[None,n_dim])\n",
    "Y = tf.placeholder(tf.float32,[None,n_classes])\n",
    "\n",
    "W_1 = tf.Variable(tf.random_normal([n_dim,n_hidden_units_one], mean = 0, stddev=sd))\n",
    "b_1 = tf.Variable(tf.random_normal([n_hidden_units_one], mean = 0, stddev=sd))\n",
    "h_1 = tf.nn.relu(tf.matmul(X,W_1) + b_1)\n",
    "\n",
    "\n",
    "W_2 = tf.Variable(tf.random_normal([n_hidden_units_one,n_hidden_units_two], mean = 0, stddev=sd))\n",
    "b_2 = tf.Variable(tf.random_normal([n_hidden_units_two], mean = 0, stddev=sd))\n",
    "h_2 = tf.nn.sigmoid(tf.matmul(h_1,W_2) + b_2)\n",
    "\n",
    "\n",
    "W = tf.Variable(tf.random_normal([n_hidden_units_two,n_classes], mean = 0, stddev=sd))\n",
    "b = tf.Variable(tf.random_normal([n_classes], mean = 0, stddev=sd))\n",
    "y_ = tf.nn.softmax(tf.matmul(h_2,W) + b)\n",
    "\n",
    "init = tf.global_variables_initializer()"
   ]
  },
  {
   "cell_type": "code",
   "execution_count": 11,
   "metadata": {},
   "outputs": [
    {
     "name": "stdout",
     "output_type": "stream",
     "text": [
      "WARNING:tensorflow:From C:\\Users\\Howard\\Anaconda3\\lib\\site-packages\\tensorflow\\python\\ops\\math_ops.py:3066: to_int32 (from tensorflow.python.ops.math_ops) is deprecated and will be removed in a future version.\n",
      "Instructions for updating:\n",
      "Use tf.cast instead.\n"
     ]
    },
    {
     "data": {
      "image/png": "[encoded data removed]",
      "text/plain": [
       "<Figure size 720x576 with 1 Axes>"
      ]
     },
     "metadata": {
      "needs_background": "light"
     },
     "output_type": "display_data"
    },
    {
     "name": "stdout",
     "output_type": "stream",
     "text": [
      "F-Score: 0.9607\n",
      "finished\n"
     ]
    }
   ],
   "source": [
    "\n",
    "cost_function = tf.reduce_mean(-tf.reduce_sum(Y * tf.log(y_), reduction_indices=[1])) \n",
    "optimizer = tf.train.GradientDescentOptimizer(learning_rate).minimize(cost_function)\n",
    "\n",
    "correct_prediction = tf.equal(tf.argmax(y_,1), tf.argmax(Y,1))\n",
    "accuracy = tf.reduce_mean(tf.cast(correct_prediction, tf.float32))\n",
    "\n",
    "saver = tf.train.Saver()\n",
    "cost_history = np.empty(shape=[1],dtype=float)\n",
    "y_true, y_pred = None, None\n",
    "\n",
    "# training_epochs = 6000\n",
    "\n",
    "with tf.Session() as sess:\n",
    "    sess.run(init)\n",
    "    for epoch in range(training_epochs):            \n",
    "        _,cost = sess.run([optimizer,cost_function],feed_dict={X:train_x,Y:train_y})\n",
    "        cost_history = np.append(cost_history,cost)\n",
    "\n",
    "    y_pred = sess.run(tf.argmax(y_,1),feed_dict={X: test_x})\n",
    "    y_true = sess.run(tf.argmax(test_y,1))\n",
    "\n",
    "    saver.save(sess, \"./checkpoints/\"+\"NN-model.ckpt\")\n",
    "    tf.train.write_graph(sess.graph_def, './tmp/model', 'ambient_nn.pb', as_text=False)\n",
    "\n",
    "    fig = plt.figure(figsize=(10,8))\n",
    "    plt.plot(cost_history)\n",
    "    plt.ylabel(\"Cost\")\n",
    "    plt.xlabel(\"Iterations\")\n",
    "    plt.axis([0,training_epochs,0,np.max(cost_history)])\n",
    "    plt.show()\n",
    "\n",
    "    p,r,f,s = precision_recall_fscore_support(y_true, y_pred, average=\"micro\")\n",
    "    print(\"F-Score:\", round(f,4))\n",
    "    \n",
    "print(\"finished\")"
   ]
  },
  {
   "cell_type": "code",
   "execution_count": null,
   "metadata": {},
   "outputs": [],
   "source": []
  },
  {
   "cell_type": "code",
   "execution_count": 12,
   "metadata": {},
   "outputs": [
    {
     "name": "stdout",
     "output_type": "stream",
     "text": [
      "[[57  0  0  0]\n",
      " [ 1 70  1  0]\n",
      " [ 0  5 61  1]\n",
      " [ 0  0  1 32]]\n"
     ]
    }
   ],
   "source": [
    "l = [i for i in range(0,NUMBER_OF_CLASSES)]\n",
    "\n",
    "from sklearn.metrics import confusion_matrix\n",
    "cm = confusion_matrix(y_true, y_pred,labels=[i for i in range(0,NUMBER_OF_CLASSES)])\n",
    "print(cm)\n"
   ]
  },
  {
   "cell_type": "code",
   "execution_count": 13,
   "metadata": {},
   "outputs": [
    {
     "name": "stdout",
     "output_type": "stream",
     "text": [
      "           air_conditioner children_playing street_music  talking  \n",
      "air_conditioner  100.0000    0.0000     0.0000     0.0000  \n",
      "children_playing   1.3889    97.2222     1.3889     0.0000  \n",
      "street_music   0.0000     7.4627    91.0448     1.4925  \n",
      "talking      0.0000     0.0000     3.0303    96.9697  \n"
     ]
    }
   ],
   "source": [
    "# from prettytable import PrettyTable\n",
    "count = [0.00 for i in range(0,NUMBER_OF_CLASSES)]\n",
    "for i in y_true:\n",
    "    count[i] += 1\n",
    "\n",
    "\n",
    "copy = list()\n",
    "for index1, l in enumerate(cm):\n",
    "    copy.append([])\n",
    "    for index2, item in enumerate(l):\n",
    "        copy[index1].append(item / count[index1] * 100)\n",
    "\n",
    "\n",
    "\n",
    "names = [\"air_conditioner\",\"children_playing\",\"street_music\", \"talking\"]\n",
    "layout = \"{!s:^10} {!s:^10} {!s:^10} {!s:^10} {!s:^10}\"\n",
    "print(layout.format(\"\", names[0], names[1], names[2], names[3]))\n",
    "list_layout = \"{!s:<10} {:^10.4f} {:^10.4f} {:^10.4f} {:^10.4f}\"\n",
    "# nums = [12.0, 13.234234,12.2323232323,12.2323232323,12.2323232323,12.2323232323,99.123123123123,99.123123123123,99.123123123123,99.123123123123]\n",
    "# print(list_layout.format(\"air_cond\",*nums))\n",
    "for i in range(len(copy)):\n",
    "    to_print = [names[i]] + copy[i]\n",
    "    print(list_layout.format(*to_print))"
   ]
  },
  {
   "cell_type": "markdown",
   "metadata": {},
   "source": [
    "## Test model with new data"
   ]
  },
  {
   "cell_type": "code",
   "execution_count": 19,
   "metadata": {},
   "outputs": [
    {
     "name": "stdout",
     "output_type": "stream",
     "text": [
      "Starting Audio parsing\n",
      "0 set2\n",
      "1 fold3\n",
      "Done parsing audio\n"
     ]
    }
   ],
   "source": [
    "print(\"Starting Audio parsing\")\n",
    "parent_dir = 'TalkingData'\n",
    "dirs = [\"set2\", \"fold3\"]\n",
    "features, labels = parse_audio_files(parent_dir, dirs)\n",
    "\n",
    "print(\"Done parsing audio\")"
   ]
  },
  {
   "cell_type": "code",
   "execution_count": 20,
   "metadata": {},
   "outputs": [],
   "source": [
    "f = open('./pickles/features_pred.pckl', 'wb')\n",
    "pickle.dump(features,f)\n",
    "f.close()\n",
    "fl = open('pickles/labels_pred.pckl', 'wb')\n",
    "pickle.dump(labels,fl)\n",
    "fl.close()"
   ]
  },
  {
   "cell_type": "code",
   "execution_count": 21,
   "metadata": {},
   "outputs": [],
   "source": [
    "f = open(\"./pickles/features_pred.pckl\", 'rb')\n",
    "features = pickle.load(f)\n",
    "f.close()\n",
    "\n",
    "\n",
    "fl = open(\"./pickles/labels_pred.pckl\", \"rb\")\n",
    "labels = pickle.load(fl)\n",
    "fl.close()"
   ]
  },
  {
   "cell_type": "code",
   "execution_count": 22,
   "metadata": {},
   "outputs": [
    {
     "name": "stdout",
     "output_type": "stream",
     "text": [
      "INFO:tensorflow:Restoring parameters from ./checkpoints/NN-model.ckpt\n",
      "Model restored\n",
      "finished\n"
     ]
    }
   ],
   "source": [
    "with tf.Session() as sess:\n",
    "    saver.restore(sess, \"./checkpoints/NN-model.ckpt\")\n",
    "    print(\"Model restored\")\n",
    "    new_pred = sess.run(tf.argmax(y_,1),feed_dict={X: features})\n",
    "    saver.save(sess, \"./checkpoints/\"+\"NN-model.ckpt\")\n",
    "print(\"finished\")"
   ]
  },
  {
   "cell_type": "code",
   "execution_count": 23,
   "metadata": {},
   "outputs": [
    {
     "name": "stdout",
     "output_type": "stream",
     "text": [
      "0.4906832298136646\n",
      "{'air_conditioner': 0, 'children_playing': 88, 'street_music': 49, 'talking': 27}\n"
     ]
    }
   ],
   "source": [
    "data_types = {0: \"air_conditioner\", 1: \"children_playing\", 2: \"street_music\", 3: \"talking\"}\n",
    "\n",
    "predSum = 0\n",
    "timer = 0\n",
    "\n",
    "counts = {\n",
    "    \"air_conditioner\": 0,\n",
    "    \"children_playing\": 0,\n",
    "    \"street_music\": 0,\n",
    "    \"talking\": 0\n",
    "}\n",
    "\n",
    "for i in new_pred:\n",
    "    if (str(data_types[labels[timer]]) == str(names[i])):\n",
    "        predSum += 1\n",
    "    else:\n",
    "        counts[names[i]] += 1\n",
    "        \n",
    "    timer += 1\n",
    "print(new_pred.shape)\n",
    "print(predSum / new_pred.shape[0])\n",
    "print(counts)"
   ]
  },
  {
   "cell_type": "code",
   "execution_count": null,
   "metadata": {},
   "outputs": [],
   "source": []
  }
 ],
 "metadata": {
  "kernelspec": {
   "display_name": "Python 3",
   "language": "python",
   "name": "python3"
  },
  "language_info": {
   "codemirror_mode": {
    "name": "ipython",
    "version": 3
   },
   "file_extension": ".py",
   "mimetype": "text/x-python",
   "name": "python",
   "nbconvert_exporter": "python",
   "pygments_lexer": "ipython3",
   "version": "3.6.4"
  }
 },
 "nbformat": 4,
 "nbformat_minor": 2
}
