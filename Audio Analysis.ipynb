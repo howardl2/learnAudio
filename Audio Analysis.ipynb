{
 "cells": [
  {
   "cell_type": "markdown",
   "metadata": {},
   "source": [
    "# sources\n",
    "### http://luthuli.cs.uiuc.edu/~daf/courses/cs-498-daf-ps/lecture%208%20-%20audio%20features2.pdf\n",
    "- Pitch\n",
    "    - Mel scale\n",
    "    - Twice as many Mels correspond to a perceived pitch doubling\n",
    "    - Pitch represents sounds ordered from low to high\n",
    "- Timbre\n",
    "    - What distinguishes sounds outside of loudness and pitch\n",
    "    - E.g. music instrument identification is guided largely by intensity fluctuatoins through time \n",
    "- Spectrogram\n",
    "    - we can \"see\" each individual sound and know hot it sounds like\n",
    "    \n"
   ]
  },
  {
   "cell_type": "code",
   "execution_count": 1,
   "metadata": {
    "collapsed": true
   },
   "outputs": [],
   "source": [
    "import glob\n",
    "import os\n",
    "import numpy as np\n",
    "\n",
    "import matplotlib.pyplot as plt\n",
    "from matplotlib.pyplot import specgram\n",
    "import matplotlib.style as ms\n",
    "ms.use(\"seaborn-muted\")\n",
    "%matplotlib inline\n",
    "\n",
    "import IPython.display\n",
    "\n",
    "import librosa\n",
    "import librosa.display\n",
    "\n",
    "import tensorflow as tf\n",
    "from sklearn.metrics import precision_recall_fscore_support\n",
    "import pickle\n",
    "\n",
    "NUMBER_OF_CLASSES = 4\n"
   ]
  },
  {
   "cell_type": "code",
   "execution_count": 2,
   "metadata": {
    "collapsed": true
   },
   "outputs": [],
   "source": [
    "def load_files(filepaths):\n",
    "    raw_sounds = []\n",
    "    for filepath in filepaths:\n",
    "        X,sr = librosa.load(filepath)\n",
    "        raw_sounds.append(X)\n",
    "    return raw_sounds\n",
    "\n",
    "\n",
    "def plot_waves(sound_names,raw_sounds):\n",
    "    i = 1\n",
    "    fig = plt.figure(figsize=(25,60), dpi = 900)\n",
    "    for n,f in zip(sound_names,raw_sounds):\n",
    "        print(n,f)\n",
    "        plt.subplot(10,1,i)\n",
    "        librosa.display.waveplot(np.array(f),sr=22050)\n",
    "        plt.title(n.title())\n",
    "        i += 1\n",
    "    plt.suptitle(\"Figure 1: Waveplot\",x=0.5, y=0.915,fontsize=18)\n",
    "    plt.show()"
   ]
  },
  {
   "cell_type": "code",
   "execution_count": 3,
   "metadata": {
    "collapsed": true
   },
   "outputs": [],
   "source": [
    "def extract_feature(file_name):\n",
    "    X, sample_rate = librosa.load(file_name)\n",
    "    stft = np.abs(librosa.stft(X))\n",
    "    mfccs = np.mean(librosa.feature.mfcc(y=X, sr=sample_rate, n_mfcc=40).T,axis=0)\n",
    "    chroma = np.mean(librosa.feature.chroma_stft(S=stft, sr=sample_rate).T,axis=0)\n",
    "    mel = np.mean(librosa.feature.melspectrogram(X, sr=sample_rate).T,axis=0)\n",
    "    contrast = np.mean(librosa.feature.spectral_contrast(S=stft, sr=sample_rate).T,axis=0)\n",
    "    tonnetz = np.mean(librosa.feature.tonnetz(y=librosa.effects.harmonic(X),\n",
    "    sr=sample_rate).T,axis=0)\n",
    "    return mfccs,chroma,mel,contrast,tonnetz\n",
    "\n",
    "def parse_audio_files(parent_dir,sub_dirs,file_ext=\"*.wav\"):\n",
    "    features, labels = np.empty((0,193)), np.empty(0) #the shape 193 comes from the shape of features combined\n",
    "#     features = np.empty((0,193))\n",
    "    for label, sub_dir in enumerate(sub_dirs):\n",
    "        print(label, sub_dir)\n",
    "        for fn in glob.glob(os.path.join(parent_dir, sub_dir, file_ext)):\n",
    "            try:\n",
    "                mfccs, chroma, mel, contrast,tonnetz = extract_feature(fn)\n",
    "                \n",
    "            except Exception as e:\n",
    "                print(\"Error encountered while parsing file: \", fn)\n",
    "                continue\n",
    "            ext_features = np.hstack([mfccs,chroma,mel,contrast,tonnetz])\n",
    "            \n",
    "            features = np.vstack([features,ext_features])\n",
    "#             labels = np.append(labels, fn.split('\\\\')[-1].split('-')[1])\n",
    "            labels = np.append(labels, fn.split('\\\\')[-1])\n",
    "#     return np.array(features), np.array(labels, dtype = np.int)\n",
    "    return np.array(features), np.array(labels)\n",
    "\n",
    "#     return np.array(features)\n",
    "\n"
   ]
  },
  {
   "cell_type": "code",
   "execution_count": 18,
   "metadata": {},
   "outputs": [
    {
     "name": "stdout",
     "output_type": "stream",
     "text": [
      "Starting Audio parsing\n",
      "0 AmbientRecordings\n",
      "(1010, 193)\n",
      "Done parsing audio\n"
     ]
    }
   ],
   "source": [
    "print(\"Starting Audio parsing\")\n",
    "parent_dir = 'Sound-Data/renameThese'\n",
    "dirs = [\"AmbientRecordings\"]\n",
    "features, labels = parse_audio_files(parent_dir, dirs)\n",
    "print(features.shape)\n",
    "print(labels.shape)\n",
    "print(\"Done parsing audio\")"
   ]
  },
  {
   "cell_type": "code",
   "execution_count": 20,
   "metadata": {
    "scrolled": false
   },
   "outputs": [
    {
     "name": "stdout",
     "output_type": "stream",
     "text": [
      "(1010,)\n",
      "features\n",
      "sums\n",
      "finding events\n"
     ]
    }
   ],
   "source": [
    "sums = []\n",
    "ratios = []\n",
    "eventChanges = []\n",
    "print(labels.shape)\n",
    "print(\"features\")\n",
    "for feature in features:\n",
    "    sums.append(sum(feature))\n",
    "max_sum = max(sums)\n",
    "print(\"sums\")\n",
    "for s in sums:\n",
    "    diff_ratio = s / max_sum\n",
    "    ratios.append(diff_ratio)\n",
    "print(\"finding events\")\n",
    "for index in range(len(ratios)-1):\n",
    "    if (0.95 < ratios[index] / ratios[index+1] < 1.05):\n",
    "        eventChanges.append(labels[index])"
   ]
  },
  {
   "cell_type": "code",
   "execution_count": 22,
   "metadata": {},
   "outputs": [
    {
     "name": "stdout",
     "output_type": "stream",
     "text": [
      "(266,)\n",
      "['Sound-Data/renameThese\\\\AmbientRecordings\\\\145654-3-0-0.wav', 'Sound-Data/renameThese\\\\AmbientRecordings\\\\145754-3-0-3.wav', 'Sound-Data/renameThese\\\\AmbientRecordings\\\\150034-3-0-11.wav', 'Sound-Data/renameThese\\\\AmbientRecordings\\\\150054-3-0-12.wav', 'Sound-Data/renameThese\\\\AmbientRecordings\\\\150134-3-0-14.wav', 'Sound-Data/renameThese\\\\AmbientRecordings\\\\150234-3-0-17.wav', 'Sound-Data/renameThese\\\\AmbientRecordings\\\\150254-3-0-18.wav', 'Sound-Data/renameThese\\\\AmbientRecordings\\\\150314-3-0-19.wav', 'Sound-Data/renameThese\\\\AmbientRecordings\\\\150354-3-0-21.wav', 'Sound-Data/renameThese\\\\AmbientRecordings\\\\150514-3-0-25.wav', 'Sound-Data/renameThese\\\\AmbientRecordings\\\\150554-3-0-27.wav', 'Sound-Data/renameThese\\\\AmbientRecordings\\\\150714-3-0-31.wav', 'Sound-Data/renameThese\\\\AmbientRecordings\\\\150914-3-0-37.wav', 'Sound-Data/renameThese\\\\AmbientRecordings\\\\151114-3-0-43.wav', 'Sound-Data/renameThese\\\\AmbientRecordings\\\\151234-3-0-47.wav', 'Sound-Data/renameThese\\\\AmbientRecordings\\\\151254-3-0-48.wav', 'Sound-Data/renameThese\\\\AmbientRecordings\\\\151334-3-0-50.wav', 'Sound-Data/renameThese\\\\AmbientRecordings\\\\151354-3-0-51.wav', 'Sound-Data/renameThese\\\\AmbientRecordings\\\\151534-3-0-56.wav', 'Sound-Data/renameThese\\\\AmbientRecordings\\\\151614-3-0-58.wav', 'Sound-Data/renameThese\\\\AmbientRecordings\\\\151714-3-0-61.wav', 'Sound-Data/renameThese\\\\AmbientRecordings\\\\151834-3-0-65.wav', 'Sound-Data/renameThese\\\\AmbientRecordings\\\\151854-3-0-66.wav', 'Sound-Data/renameThese\\\\AmbientRecordings\\\\151954-3-0-69.wav', 'Sound-Data/renameThese\\\\AmbientRecordings\\\\152114-3-0-73.wav', 'Sound-Data/renameThese\\\\AmbientRecordings\\\\152134-3-0-74.wav', 'Sound-Data/renameThese\\\\AmbientRecordings\\\\152214-3-0-76.wav', 'Sound-Data/renameThese\\\\AmbientRecordings\\\\152254-3-0-78.wav', 'Sound-Data/renameThese\\\\AmbientRecordings\\\\152314-3-0-79.wav', 'Sound-Data/renameThese\\\\AmbientRecordings\\\\152634-3-0-89.wav', 'Sound-Data/renameThese\\\\AmbientRecordings\\\\152654-3-0-90.wav', 'Sound-Data/renameThese\\\\AmbientRecordings\\\\152914-3-0-97.wav', 'Sound-Data/renameThese\\\\AmbientRecordings\\\\152934-3-0-98.wav', 'Sound-Data/renameThese\\\\AmbientRecordings\\\\153134-3-0-104.wav', 'Sound-Data/renameThese\\\\AmbientRecordings\\\\153154-3-0-105.wav', 'Sound-Data/renameThese\\\\AmbientRecordings\\\\153214-3-0-106.wav', 'Sound-Data/renameThese\\\\AmbientRecordings\\\\153254-3-0-108.wav', 'Sound-Data/renameThese\\\\AmbientRecordings\\\\153414-3-0-112.wav', 'Sound-Data/renameThese\\\\AmbientRecordings\\\\153434-3-0-113.wav', 'Sound-Data/renameThese\\\\AmbientRecordings\\\\153554-3-0-117.wav', 'Sound-Data/renameThese\\\\AmbientRecordings\\\\153614-3-0-118.wav', 'Sound-Data/renameThese\\\\AmbientRecordings\\\\153634-3-0-119.wav', 'Sound-Data/renameThese\\\\AmbientRecordings\\\\153734-3-0-122.wav', 'Sound-Data/renameThese\\\\AmbientRecordings\\\\153814-3-0-124.wav', 'Sound-Data/renameThese\\\\AmbientRecordings\\\\153854-3-0-126.wav', 'Sound-Data/renameThese\\\\AmbientRecordings\\\\153934-3-0-128.wav', 'Sound-Data/renameThese\\\\AmbientRecordings\\\\155327-3-0-150.wav', 'Sound-Data/renameThese\\\\AmbientRecordings\\\\155407-3-0-152.wav', 'Sound-Data/renameThese\\\\AmbientRecordings\\\\155550-3-0-157.wav', 'Sound-Data/renameThese\\\\AmbientRecordings\\\\160416-3-0-182.wav', 'Sound-Data/renameThese\\\\AmbientRecordings\\\\160857-3-0-196.wav', 'Sound-Data/renameThese\\\\AmbientRecordings\\\\161818-3-0-224.wav', 'Sound-Data/renameThese\\\\AmbientRecordings\\\\161858-3-0-226.wav', 'Sound-Data/renameThese\\\\AmbientRecordings\\\\162222-3-0-236.wav', 'Sound-Data/renameThese\\\\AmbientRecordings\\\\162445-3-0-243.wav', 'Sound-Data/renameThese\\\\AmbientRecordings\\\\162613-3-0-247.wav', 'Sound-Data/renameThese\\\\AmbientRecordings\\\\162655-3-0-249.wav', 'Sound-Data/renameThese\\\\AmbientRecordings\\\\162915-3-0-256.wav', 'Sound-Data/renameThese\\\\AmbientRecordings\\\\162935-3-0-257.wav', 'Sound-Data/renameThese\\\\AmbientRecordings\\\\163015-3-0-259.wav', 'Sound-Data/renameThese\\\\AmbientRecordings\\\\163517-3-0-274.wav', 'Sound-Data/renameThese\\\\AmbientRecordings\\\\163721-3-0-280.wav', 'Sound-Data/renameThese\\\\AmbientRecordings\\\\163742-3-0-281.wav', 'Sound-Data/renameThese\\\\AmbientRecordings\\\\163802-3-0-282.wav', 'Sound-Data/renameThese\\\\AmbientRecordings\\\\164818-3-0-292.wav', 'Sound-Data/renameThese\\\\AmbientRecordings\\\\164858-3-0-294.wav', 'Sound-Data/renameThese\\\\AmbientRecordings\\\\164918-3-0-295.wav', 'Sound-Data/renameThese\\\\AmbientRecordings\\\\165018-3-0-298.wav', 'Sound-Data/renameThese\\\\AmbientRecordings\\\\165038-3-0-299.wav', 'Sound-Data/renameThese\\\\AmbientRecordings\\\\165118-3-0-301.wav', 'Sound-Data/renameThese\\\\AmbientRecordings\\\\165243-3-0-305.wav', 'Sound-Data/renameThese\\\\AmbientRecordings\\\\165304-3-0-306.wav', 'Sound-Data/renameThese\\\\AmbientRecordings\\\\165424-3-0-310.wav', 'Sound-Data/renameThese\\\\AmbientRecordings\\\\165524-3-0-313.wav', 'Sound-Data/renameThese\\\\AmbientRecordings\\\\165704-3-0-318.wav', 'Sound-Data/renameThese\\\\AmbientRecordings\\\\165724-3-0-319.wav', 'Sound-Data/renameThese\\\\AmbientRecordings\\\\170044-3-0-329.wav', 'Sound-Data/renameThese\\\\AmbientRecordings\\\\170246-3-0-335.wav', 'Sound-Data/renameThese\\\\AmbientRecordings\\\\182240-3-0-340.wav', 'Sound-Data/renameThese\\\\AmbientRecordings\\\\182300-3-0-341.wav', 'Sound-Data/renameThese\\\\AmbientRecordings\\\\182600-3-0-350.wav', 'Sound-Data/renameThese\\\\AmbientRecordings\\\\182940-3-0-361.wav', 'Sound-Data/renameThese\\\\AmbientRecordings\\\\183040-3-0-364.wav', 'Sound-Data/renameThese\\\\AmbientRecordings\\\\183300-3-0-371.wav', 'Sound-Data/renameThese\\\\AmbientRecordings\\\\183420-3-0-375.wav', 'Sound-Data/renameThese\\\\AmbientRecordings\\\\183620-3-0-381.wav', 'Sound-Data/renameThese\\\\AmbientRecordings\\\\183720-3-0-384.wav', 'Sound-Data/renameThese\\\\AmbientRecordings\\\\184600-3-0-410.wav', 'Sound-Data/renameThese\\\\AmbientRecordings\\\\184700-3-0-413.wav', 'Sound-Data/renameThese\\\\AmbientRecordings\\\\185120-3-0-426.wav', 'Sound-Data/renameThese\\\\AmbientRecordings\\\\185220-3-0-429.wav', 'Sound-Data/renameThese\\\\AmbientRecordings\\\\185341-3-0-433.wav', 'Sound-Data/renameThese\\\\AmbientRecordings\\\\185900-3-0-449.wav', 'Sound-Data/renameThese\\\\AmbientRecordings\\\\190020-3-0-453.wav', 'Sound-Data/renameThese\\\\AmbientRecordings\\\\190040-3-0-454.wav', 'Sound-Data/renameThese\\\\AmbientRecordings\\\\190100-3-0-455.wav', 'Sound-Data/renameThese\\\\AmbientRecordings\\\\190120-3-0-456.wav', 'Sound-Data/renameThese\\\\AmbientRecordings\\\\190220-3-0-459.wav', 'Sound-Data/renameThese\\\\AmbientRecordings\\\\190240-3-0-460.wav', 'Sound-Data/renameThese\\\\AmbientRecordings\\\\190300-3-0-461.wav', 'Sound-Data/renameThese\\\\AmbientRecordings\\\\190420-3-0-465.wav', 'Sound-Data/renameThese\\\\AmbientRecordings\\\\190440-3-0-466.wav', 'Sound-Data/renameThese\\\\AmbientRecordings\\\\190500-3-0-467.wav', 'Sound-Data/renameThese\\\\AmbientRecordings\\\\190520-3-0-468.wav', 'Sound-Data/renameThese\\\\AmbientRecordings\\\\190620-3-0-471.wav', 'Sound-Data/renameThese\\\\AmbientRecordings\\\\190640-3-0-472.wav', 'Sound-Data/renameThese\\\\AmbientRecordings\\\\190820-3-0-477.wav', 'Sound-Data/renameThese\\\\AmbientRecordings\\\\190840-3-0-478.wav', 'Sound-Data/renameThese\\\\AmbientRecordings\\\\191120-3-0-486.wav', 'Sound-Data/renameThese\\\\AmbientRecordings\\\\191200-3-0-488.wav', 'Sound-Data/renameThese\\\\AmbientRecordings\\\\191320-3-0-492.wav', 'Sound-Data/renameThese\\\\AmbientRecordings\\\\191600-3-0-500.wav', 'Sound-Data/renameThese\\\\AmbientRecordings\\\\191620-3-0-501.wav', 'Sound-Data/renameThese\\\\AmbientRecordings\\\\191640-3-0-502.wav', 'Sound-Data/renameThese\\\\AmbientRecordings\\\\191840-3-0-508.wav', 'Sound-Data/renameThese\\\\AmbientRecordings\\\\192540-3-0-529.wav', 'Sound-Data/renameThese\\\\AmbientRecordings\\\\192620-3-0-531.wav', 'Sound-Data/renameThese\\\\AmbientRecordings\\\\192640-3-0-532.wav', 'Sound-Data/renameThese\\\\AmbientRecordings\\\\192740-3-0-535.wav', 'Sound-Data/renameThese\\\\AmbientRecordings\\\\192900-3-0-539.wav', 'Sound-Data/renameThese\\\\AmbientRecordings\\\\193020-3-0-543.wav', 'Sound-Data/renameThese\\\\AmbientRecordings\\\\193220-3-0-549.wav', 'Sound-Data/renameThese\\\\AmbientRecordings\\\\193300-3-0-551.wav', 'Sound-Data/renameThese\\\\AmbientRecordings\\\\193340-3-0-553.wav', 'Sound-Data/renameThese\\\\AmbientRecordings\\\\193420-3-0-555.wav', 'Sound-Data/renameThese\\\\AmbientRecordings\\\\193840-3-0-568.wav', 'Sound-Data/renameThese\\\\AmbientRecordings\\\\194020-3-0-573.wav', 'Sound-Data/renameThese\\\\AmbientRecordings\\\\194320-3-0-582.wav', 'Sound-Data/renameThese\\\\AmbientRecordings\\\\194600-3-0-590.wav', 'Sound-Data/renameThese\\\\AmbientRecordings\\\\194920-3-0-600.wav', 'Sound-Data/renameThese\\\\AmbientRecordings\\\\195000-3-0-602.wav', 'Sound-Data/renameThese\\\\AmbientRecordings\\\\195220-3-0-609.wav', 'Sound-Data/renameThese\\\\AmbientRecordings\\\\195320-3-0-612.wav', 'Sound-Data/renameThese\\\\AmbientRecordings\\\\195400-3-0-614.wav', 'Sound-Data/renameThese\\\\AmbientRecordings\\\\195500-3-0-617.wav', 'Sound-Data/renameThese\\\\AmbientRecordings\\\\195740-3-0-625.wav', 'Sound-Data/renameThese\\\\AmbientRecordings\\\\195920-3-0-630.wav', 'Sound-Data/renameThese\\\\AmbientRecordings\\\\195940-3-0-631.wav', 'Sound-Data/renameThese\\\\AmbientRecordings\\\\200200-3-0-638.wav', 'Sound-Data/renameThese\\\\AmbientRecordings\\\\200220-3-0-639.wav', 'Sound-Data/renameThese\\\\AmbientRecordings\\\\200240-3-0-640.wav', 'Sound-Data/renameThese\\\\AmbientRecordings\\\\200620-3-0-651.wav', 'Sound-Data/renameThese\\\\AmbientRecordings\\\\200700-3-0-653.wav', 'Sound-Data/renameThese\\\\AmbientRecordings\\\\200740-3-0-655.wav', 'Sound-Data/renameThese\\\\AmbientRecordings\\\\201120-3-0-666.wav', 'Sound-Data/renameThese\\\\AmbientRecordings\\\\201240-3-0-670.wav', 'Sound-Data/renameThese\\\\AmbientRecordings\\\\201540-3-0-679.wav', 'Sound-Data/renameThese\\\\AmbientRecordings\\\\201600-3-0-680.wav', 'Sound-Data/renameThese\\\\AmbientRecordings\\\\201820-3-0-687.wav', 'Sound-Data/renameThese\\\\AmbientRecordings\\\\201840-3-0-688.wav', 'Sound-Data/renameThese\\\\AmbientRecordings\\\\201900-3-0-689.wav', 'Sound-Data/renameThese\\\\AmbientRecordings\\\\202320-3-0-702.wav', 'Sound-Data/renameThese\\\\AmbientRecordings\\\\202640-3-0-712.wav', 'Sound-Data/renameThese\\\\AmbientRecordings\\\\202740-3-0-715.wav', 'Sound-Data/renameThese\\\\AmbientRecordings\\\\202800-3-0-716.wav', 'Sound-Data/renameThese\\\\AmbientRecordings\\\\202900-3-0-719.wav', 'Sound-Data/renameThese\\\\AmbientRecordings\\\\202940-3-0-721.wav', 'Sound-Data/renameThese\\\\AmbientRecordings\\\\203040-3-0-724.wav', 'Sound-Data/renameThese\\\\AmbientRecordings\\\\203300-3-0-731.wav', 'Sound-Data/renameThese\\\\AmbientRecordings\\\\203420-3-0-735.wav', 'Sound-Data/renameThese\\\\AmbientRecordings\\\\203500-3-0-737.wav', 'Sound-Data/renameThese\\\\AmbientRecordings\\\\203620-3-0-741.wav', 'Sound-Data/renameThese\\\\AmbientRecordings\\\\203900-3-0-749.wav', 'Sound-Data/renameThese\\\\AmbientRecordings\\\\204424-3-0-765.wav', 'Sound-Data/renameThese\\\\AmbientRecordings\\\\204621-3-0-768.wav', 'Sound-Data/renameThese\\\\AmbientRecordings\\\\204803-3-0-772.wav', 'Sound-Data/renameThese\\\\AmbientRecordings\\\\205426-3-0-786.wav', 'Sound-Data/renameThese\\\\AmbientRecordings\\\\205826-3-0-798.wav', 'Sound-Data/renameThese\\\\AmbientRecordings\\\\205906-3-0-800.wav', 'Sound-Data/renameThese\\\\AmbientRecordings\\\\210246-3-0-811.wav', 'Sound-Data/renameThese\\\\AmbientRecordings\\\\210406-3-0-815.wav', 'Sound-Data/renameThese\\\\AmbientRecordings\\\\210446-3-0-817.wav', 'Sound-Data/renameThese\\\\AmbientRecordings\\\\210506-3-0-818.wav', 'Sound-Data/renameThese\\\\AmbientRecordings\\\\210546-3-0-820.wav', 'Sound-Data/renameThese\\\\AmbientRecordings\\\\210606-3-0-821.wav', 'Sound-Data/renameThese\\\\AmbientRecordings\\\\210926-3-0-831.wav', 'Sound-Data/renameThese\\\\AmbientRecordings\\\\211126-3-0-837.wav', 'Sound-Data/renameThese\\\\AmbientRecordings\\\\211406-3-0-845.wav', 'Sound-Data/renameThese\\\\AmbientRecordings\\\\211706-3-0-854.wav', 'Sound-Data/renameThese\\\\AmbientRecordings\\\\211806-3-0-857.wav', 'Sound-Data/renameThese\\\\AmbientRecordings\\\\212046-3-0-865.wav', 'Sound-Data/renameThese\\\\AmbientRecordings\\\\212206-3-0-869.wav', 'Sound-Data/renameThese\\\\AmbientRecordings\\\\212606-3-0-881.wav', 'Sound-Data/renameThese\\\\AmbientRecordings\\\\212726-3-0-885.wav', 'Sound-Data/renameThese\\\\AmbientRecordings\\\\213106-3-0-896.wav', 'Sound-Data/renameThese\\\\AmbientRecordings\\\\213127-3-0-897.wav', 'Sound-Data/renameThese\\\\AmbientRecordings\\\\213147-3-0-898.wav', 'Sound-Data/renameThese\\\\AmbientRecordings\\\\213207-3-0-899.wav', 'Sound-Data/renameThese\\\\AmbientRecordings\\\\213227-3-0-900.wav', 'Sound-Data/renameThese\\\\AmbientRecordings\\\\213247-3-0-901.wav', 'Sound-Data/renameThese\\\\AmbientRecordings\\\\213307-3-0-902.wav', 'Sound-Data/renameThese\\\\AmbientRecordings\\\\213327-3-0-903.wav', 'Sound-Data/renameThese\\\\AmbientRecordings\\\\213347-3-0-904.wav', 'Sound-Data/renameThese\\\\AmbientRecordings\\\\213408-3-0-905.wav', 'Sound-Data/renameThese\\\\AmbientRecordings\\\\213429-3-0-906.wav', 'Sound-Data/renameThese\\\\AmbientRecordings\\\\213450-3-0-907.wav', 'Sound-Data/renameThese\\\\AmbientRecordings\\\\213510-3-0-908.wav', 'Sound-Data/renameThese\\\\AmbientRecordings\\\\213530-3-0-909.wav', 'Sound-Data/renameThese\\\\AmbientRecordings\\\\213632-3-0-912.wav', 'Sound-Data/renameThese\\\\AmbientRecordings\\\\213712-3-0-914.wav', 'Sound-Data/renameThese\\\\AmbientRecordings\\\\213732-3-0-915.wav', 'Sound-Data/renameThese\\\\AmbientRecordings\\\\213753-3-0-916.wav', 'Sound-Data/renameThese\\\\AmbientRecordings\\\\213813-3-0-917.wav', 'Sound-Data/renameThese\\\\AmbientRecordings\\\\213833-3-0-918.wav', 'Sound-Data/renameThese\\\\AmbientRecordings\\\\213854-3-0-919.wav', 'Sound-Data/renameThese\\\\AmbientRecordings\\\\214635-3-0-922.wav', 'Sound-Data/renameThese\\\\AmbientRecordings\\\\214655-3-0-923.wav', 'Sound-Data/renameThese\\\\AmbientRecordings\\\\214757-3-0-926.wav', 'Sound-Data/renameThese\\\\AmbientRecordings\\\\214818-3-0-927.wav', 'Sound-Data/renameThese\\\\AmbientRecordings\\\\214919-3-0-930.wav', 'Sound-Data/renameThese\\\\AmbientRecordings\\\\214939-3-0-931.wav', 'Sound-Data/renameThese\\\\AmbientRecordings\\\\214959-3-0-932.wav', 'Sound-Data/renameThese\\\\AmbientRecordings\\\\215019-3-0-933.wav', 'Sound-Data/renameThese\\\\AmbientRecordings\\\\215039-3-0-934.wav', 'Sound-Data/renameThese\\\\AmbientRecordings\\\\215100-3-0-935.wav', 'Sound-Data/renameThese\\\\AmbientRecordings\\\\215120-3-0-936.wav', 'Sound-Data/renameThese\\\\AmbientRecordings\\\\215141-3-0-937.wav', 'Sound-Data/renameThese\\\\AmbientRecordings\\\\215201-3-0-938.wav', 'Sound-Data/renameThese\\\\AmbientRecordings\\\\215222-3-0-939.wav', 'Sound-Data/renameThese\\\\AmbientRecordings\\\\215242-3-0-940.wav', 'Sound-Data/renameThese\\\\AmbientRecordings\\\\215423-3-0-945.wav', 'Sound-Data/renameThese\\\\AmbientRecordings\\\\215443-3-0-946.wav', 'Sound-Data/renameThese\\\\AmbientRecordings\\\\215503-3-0-947.wav', 'Sound-Data/renameThese\\\\AmbientRecordings\\\\215523-3-0-948.wav', 'Sound-Data/renameThese\\\\AmbientRecordings\\\\215543-3-0-949.wav', 'Sound-Data/renameThese\\\\AmbientRecordings\\\\215604-3-0-950.wav', 'Sound-Data/renameThese\\\\AmbientRecordings\\\\215624-3-0-951.wav', 'Sound-Data/renameThese\\\\AmbientRecordings\\\\215644-3-0-952.wav', 'Sound-Data/renameThese\\\\AmbientRecordings\\\\215705-3-0-953.wav', 'Sound-Data/renameThese\\\\AmbientRecordings\\\\215725-3-0-954.wav', 'Sound-Data/renameThese\\\\AmbientRecordings\\\\215746-3-0-955.wav', 'Sound-Data/renameThese\\\\AmbientRecordings\\\\215806-3-0-956.wav', 'Sound-Data/renameThese\\\\AmbientRecordings\\\\220527-3-0-958.wav', 'Sound-Data/renameThese\\\\AmbientRecordings\\\\220547-3-0-959.wav', 'Sound-Data/renameThese\\\\AmbientRecordings\\\\220607-3-0-960.wav', 'Sound-Data/renameThese\\\\AmbientRecordings\\\\220627-3-0-961.wav', 'Sound-Data/renameThese\\\\AmbientRecordings\\\\220654-3-0-962.wav', 'Sound-Data/renameThese\\\\AmbientRecordings\\\\220714-3-0-963.wav', 'Sound-Data/renameThese\\\\AmbientRecordings\\\\220734-3-0-964.wav', 'Sound-Data/renameThese\\\\AmbientRecordings\\\\220754-3-0-965.wav', 'Sound-Data/renameThese\\\\AmbientRecordings\\\\220814-3-0-966.wav', 'Sound-Data/renameThese\\\\AmbientRecordings\\\\220834-3-0-967.wav', 'Sound-Data/renameThese\\\\AmbientRecordings\\\\220855-3-0-968.wav', 'Sound-Data/renameThese\\\\AmbientRecordings\\\\220915-3-0-969.wav', 'Sound-Data/renameThese\\\\AmbientRecordings\\\\221016-3-0-972.wav', 'Sound-Data/renameThese\\\\AmbientRecordings\\\\221036-3-0-973.wav', 'Sound-Data/renameThese\\\\AmbientRecordings\\\\221834-3-0-977.wav', 'Sound-Data/renameThese\\\\AmbientRecordings\\\\221859-3-0-978.wav', 'Sound-Data/renameThese\\\\AmbientRecordings\\\\222039-3-0-983.wav', 'Sound-Data/renameThese\\\\AmbientRecordings\\\\222120-3-0-985.wav', 'Sound-Data/renameThese\\\\AmbientRecordings\\\\222140-3-0-986.wav', 'Sound-Data/renameThese\\\\AmbientRecordings\\\\222200-3-0-987.wav', 'Sound-Data/renameThese\\\\AmbientRecordings\\\\222220-3-0-988.wav', 'Sound-Data/renameThese\\\\AmbientRecordings\\\\222241-3-0-989.wav', 'Sound-Data/renameThese\\\\AmbientRecordings\\\\222301-3-0-990.wav', 'Sound-Data/renameThese\\\\AmbientRecordings\\\\222322-3-0-991.wav', 'Sound-Data/renameThese\\\\AmbientRecordings\\\\222342-3-0-992.wav', 'Sound-Data/renameThese\\\\AmbientRecordings\\\\222402-3-0-993.wav', 'Sound-Data/renameThese\\\\AmbientRecordings\\\\222422-3-0-994.wav', 'Sound-Data/renameThese\\\\AmbientRecordings\\\\222543-3-0-998.wav', 'Sound-Data/renameThese\\\\AmbientRecordings\\\\222643-3-0-1001.wav', 'Sound-Data/renameThese\\\\AmbientRecordings\\\\222703-3-0-1002.wav', 'Sound-Data/renameThese\\\\AmbientRecordings\\\\222844-3-0-1007.wav', 'Sound-Data/renameThese\\\\AmbientRecordings\\\\223646-3-0-1010.wav', 'Sound-Data/renameThese\\\\AmbientRecordings\\\\223934-3-0-1013.wav', 'Sound-Data/renameThese\\\\AmbientRecordings\\\\224030-3-0-1014.wav']\n"
     ]
    }
   ],
   "source": [
    "print(np.array(eventChanges).shape)\n",
    "print(eventChanges)"
   ]
  },
  {
   "cell_type": "code",
   "execution_count": 8,
   "metadata": {},
   "outputs": [
    {
     "name": "stdout",
     "output_type": "stream",
     "text": [
      "Starting Audio parsing\n",
      "0 Ambient_1_3\n",
      "1 Ambient_1_4\n",
      "(332, 193)\n",
      "(332,)\n",
      "Done parsing audio\n"
     ]
    }
   ],
   "source": [
    "print(\"Starting Audio parsing\")\n",
    "parent_dir = 'Sound-Data/renameThese'\n",
    "dirs = [\"Ambient_1_3\",\"Ambient_1_4\"]\n",
    "features, labels = parse_audio_files(parent_dir, dirs)\n",
    "print(features.shape)\n",
    "print(labels.shape)\n",
    "print(\"Done parsing audio\")"
   ]
  },
  {
   "cell_type": "code",
   "execution_count": 5,
   "metadata": {},
   "outputs": [
    {
     "name": "stdout",
     "output_type": "stream",
     "text": [
      "(255,)\n",
      "features\n",
      "sums\n",
      "finding events\n"
     ]
    }
   ],
   "source": [
    "sums = []\n",
    "ratios = []\n",
    "eventChanges = []\n",
    "print(labels.shape)\n",
    "print(\"features\")\n",
    "for feature in features:\n",
    "    sums.append(sum(feature))\n",
    "max_sum = max(sums)\n",
    "print(\"sums\")\n",
    "for s in sums:\n",
    "    diff_ratio = s / max_sum\n",
    "    ratios.append(diff_ratio)\n",
    "print(\"finding events\")\n",
    "for index in range(len(ratios)-1):\n",
    "    if (0.95 < ratios[index] / ratios[index+1] < 1.05):\n",
    "        eventChanges.append(labels[index])"
   ]
  },
  {
   "cell_type": "code",
   "execution_count": 7,
   "metadata": {},
   "outputs": [
    {
     "name": "stdout",
     "output_type": "stream",
     "text": [
      "(38,)\n",
      "['095010.wav', '095838.wav', '100018.wav', '100238.wav', '100338.wav', '101104.wav', '102414.wav', '143105.wav', '143511.wav', '150245.wav', '150516.wav', '150905.wav', '152400.wav', '152605.wav', '154606.wav', '154644.wav', '160755.wav', '164644.wav', '165452.wav', '165512.wav', '171511.wav', '175420.wav', '181310.wav', '182315.wav', '182435.wav', '182455.wav', '182515.wav', '182555.wav', '182644.wav', '182720.wav', '183105.wav', '183511.wav', '185601.wav', '190524.wav', '193105.wav', '194329.wav', '194429.wav', '194631.wav']\n"
     ]
    }
   ],
   "source": [
    "print(np.array(eventChanges).shape)\n",
    "print(eventChanges)"
   ]
  },
  {
   "cell_type": "code",
   "execution_count": null,
   "metadata": {
    "collapsed": true
   },
   "outputs": [],
   "source": []
  }
 ],
 "metadata": {
  "kernelspec": {
   "display_name": "Python 3",
   "language": "python",
   "name": "python3"
  },
  "language_info": {
   "codemirror_mode": {
    "name": "ipython",
    "version": 3
   },
   "file_extension": ".py",
   "mimetype": "text/x-python",
   "name": "python",
   "nbconvert_exporter": "python",
   "pygments_lexer": "ipython3",
   "version": "3.6.1"
  }
 },
 "nbformat": 4,
 "nbformat_minor": 2
}
